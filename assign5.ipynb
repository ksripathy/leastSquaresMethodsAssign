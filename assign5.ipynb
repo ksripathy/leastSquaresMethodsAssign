{
 "cells": [
  {
   "cell_type": "code",
   "execution_count": 1,
   "metadata": {},
   "outputs": [],
   "source": [
    "import numpy as np\n",
    "from numpy.linalg import inv\n",
    "from matplotlib import pyplot as plt"
   ]
  },
  {
   "cell_type": "markdown",
   "metadata": {},
   "source": [
    "$y = y_0 + a\\sin{\\left(2\\pi f_0t\\right)}$\n",
    "\n",
    "$f_0 = 1$\n",
    "\n",
    "$y = y_0 + a\\sin{\\left(2\\pi t\\right)}$\n",
    "\n",
    "$t_ = \\begin{bmatrix} 0.25 & 0.50 & 0.75 & 1.00 \\end{bmatrix}^T$\n",
    "\n",
    "$y = \\begin{bmatrix} 5.12 & 5.04 & 4.90 & 5.02 \\end{bmatrix}^T$\n",
    "\n",
    "## 5-a\n",
    "\n",
    "$A = \\begin{bmatrix} 1 & \\sin{(0.5\\pi)} \\\\ 1 & \\sin{(\\pi)} \\\\ 1 & \\sin{(1.5\\pi)} \\\\ 1 & \\sin{(2\\pi)} \\\\ \\end{bmatrix}$\n",
    "\n",
    "$m = 4$\n",
    "\n",
    "$n = 2$\n",
    "\n",
    "Redundancy is $m-n = 2$\n",
    "\n",
    "## 5-b"
   ]
  },
  {
   "cell_type": "code",
   "execution_count": 2,
   "metadata": {},
   "outputs": [],
   "source": [
    "y = np.array([[5.12],[5.04],[4.90],[5.02]])\n",
    "t = np.array([[0.25],[0.50],[0.75],[1.00]])\n",
    "\n",
    "A0 = np.array([1,1,1,1])\n",
    "A1 = np.sin(2*np.pi*t)\n",
    "A = np.column_stack((A0,A1))\n",
    "\n",
    "x_hat_ls = inv(A.T @ A) @ A.T @ y\n",
    "e_hat = y - A @ x_hat_ls\n",
    "P = A @ inv(A.T @ A) @ A.T\n",
    "P_orth = np.eye(4) - P\n",
    "e = inv(P_orth) @ e_hat"
   ]
  },
  {
   "cell_type": "markdown",
   "metadata": {},
   "source": [
    "$\\hat{x} = \\begin{bmatrix} 5.02 & 0.11 \\end{bmatrix}^T$\n",
    "\n",
    "$\\hat{y}_0 = 5.02; \\hat{a} = 0.11$\n",
    "\n",
    "## 5-c\n",
    "\n",
    "$Q_y = \\begin{bmatrix} 0.01^2 & 0 & 0 & 0 \\\\ 0 & 0.01^2 & 0 & 0 \\\\ 0 & 0 & 0.01^2 & 0 \\\\ 0 & 0 & 0 & 0.01^2 \\\\ \\end{bmatrix}$"
   ]
  },
  {
   "cell_type": "code",
   "execution_count": 3,
   "metadata": {},
   "outputs": [],
   "source": [
    "Qy = np.array([[0.01**2,0,0,0],[0,0.01**2,0,0],[0,0,0.01**2,0],[0,0,0,0.01**2]])\n",
    "\n",
    "x_hat_blue = inv(A.T @ inv(Qy) @ A) @ A.T @ inv(Qy) @ y"
   ]
  },
  {
   "cell_type": "markdown",
   "metadata": {},
   "source": [
    "$\\hat{x} = \\begin{bmatrix} 5.02 & 0.11 \\end{bmatrix}^T$\n",
    "\n",
    "$\\hat{y}_0 = 5.02; \\hat{a} = 0.11$\n",
    "\n",
    "## 5-d\n",
    "\n",
    "$Q_{\\hat{x}} = (A^TQ_y^{-1}A)^{-1}$"
   ]
  },
  {
   "cell_type": "code",
   "execution_count": 4,
   "metadata": {},
   "outputs": [],
   "source": [
    "Qx = inv(A.T @ inv(Qy) @ A)\n",
    "sigma_x = np.sqrt(np.diag(Qx))"
   ]
  },
  {
   "cell_type": "markdown",
   "metadata": {},
   "source": [
    "$Q_{\\hat{x}} = \\begin{bmatrix} 2.5 \\times 10^{-5} & 0 \\\\ 0 & 5 \\times 10^{-5} \\\\ \\end{bmatrix}^T$\n",
    "\n",
    "$\\sigma_{\\hat{y}_0} = 0.005$\n",
    "\n",
    "$\\sigma_{\\hat{a}} = 0.0071$\n",
    "\n",
    "## 5-e\n",
    "\n",
    "$y(t_5=1.25) = y_5 = 5.02 + 0.11\\times\\sin{(2.5\\pi)}$\n",
    "\n"
   ]
  },
  {
   "cell_type": "code",
   "execution_count": 5,
   "metadata": {},
   "outputs": [],
   "source": [
    "t5 = 1.25\n",
    "y5_hat = x_hat_blue[0] + x_hat_blue[1]*np.sin(2*np.pi*t5)"
   ]
  },
  {
   "cell_type": "markdown",
   "metadata": {},
   "source": [
    "$\\hat{y}_5 = 5.13$\n",
    "\n",
    "$A_{5j} = \\begin{bmatrix} 1 & \\sin{2.5\\pi} \\end{bmatrix}$\n",
    "\n",
    "Since all the emasurements are uncorrelated:\n",
    "\n",
    "$Q_{\\hat{y}_{55}} = A_{5j}Q_{\\hat{x}}A_{5j}^T$ \n"
   ]
  },
  {
   "cell_type": "code",
   "execution_count": 6,
   "metadata": {},
   "outputs": [],
   "source": [
    "A5j = np.array([1,np.sin(2*np.pi*t5)])\n",
    "Qy5_hat = A5j @ Qx @ A5j.T\n",
    "sigma_y5 = np.sqrt(Qy5_hat)"
   ]
  },
  {
   "cell_type": "markdown",
   "metadata": {},
   "source": [
    "$Q_{\\hat{y}_{55}} = 7.5\\times 10^{-5}$\n",
    "\n",
    "$\\sigma_{\\hat{y}_{5}} = 0.00866$\n",
    "\n",
    "## 5-f\n",
    "\n",
    "$y(t=1.50) = 5.02 + 0.11\\times\\sin{(3\\pi)}$"
   ]
  },
  {
   "cell_type": "code",
   "execution_count": 7,
   "metadata": {},
   "outputs": [],
   "source": [
    "t6 = 1.50\n",
    "y6_hat = x_hat_blue[0] + x_hat_blue[1]*np.sin(2*np.pi*t6)"
   ]
  },
  {
   "cell_type": "markdown",
   "metadata": {},
   "source": [
    "$y(t=1.50) = 5.02$\n",
    "\n",
    "$A_{6j} = \\begin{bmatrix} 1 & \\sin{3.0\\pi} \\end{bmatrix}$\n",
    "\n",
    "Similarly:\n",
    "\n",
    "$Q_{\\hat{y}_{66}} = A_{6j}Q_{\\hat{x}}A_{6j}^T$ "
   ]
  },
  {
   "cell_type": "code",
   "execution_count": 8,
   "metadata": {},
   "outputs": [],
   "source": [
    "A6j = np.array([1,np.sin(2*np.pi*t6)])\n",
    "Qy6_hat = A6j @ Qx @ A6j.T\n",
    "sigma_y6 = np.sqrt(Qy6_hat)"
   ]
  },
  {
   "cell_type": "markdown",
   "metadata": {},
   "source": [
    "$\\sigma_{\\hat{y}_{6}} = 0.005$\n",
    "\n",
    "## 5-g\n",
    "\n",
    "$\\hat{y} = A\\hat{x}$"
   ]
  },
  {
   "cell_type": "code",
   "execution_count": 9,
   "metadata": {},
   "outputs": [],
   "source": [
    "y_hat = A @ x_hat_blue"
   ]
  },
  {
   "cell_type": "markdown",
   "metadata": {},
   "source": [
    "$\\hat{y} = \\begin{bmatrix} 5.13 & 5.02 & 4.91 & 5.02 \\end{bmatrix}^T$\n",
    "\n",
    "$\\hat{e} = y - \\hat{y}$"
   ]
  },
  {
   "cell_type": "code",
   "execution_count": 10,
   "metadata": {},
   "outputs": [],
   "source": [
    "e_hat = y - y_hat"
   ]
  },
  {
   "cell_type": "markdown",
   "metadata": {},
   "source": [
    "$\\hat{e} = \\begin{bmatrix} -0.01 & 0.02 & -0.01 & 0 \\end{bmatrix}^T$\n",
    "\n",
    "$\\lVert \\hat{e} \\rVert _{Q_y^{-1}}^2 = \\hat{e}^TQ_y^{-1}\\hat{e}$"
   ]
  },
  {
   "cell_type": "code",
   "execution_count": 11,
   "metadata": {},
   "outputs": [],
   "source": [
    "weighted_squared_e_hat = e_hat.T @ inv(Qy) @ e_hat"
   ]
  },
  {
   "cell_type": "markdown",
   "metadata": {},
   "source": [
    "$\\lVert \\hat{e} \\rVert _{Q_y^{-1}}^2 = 6$\n",
    "\n",
    "## 5-h\n",
    "\n",
    "$\\lVert \\hat{e} \\rVert _{Q_y^{-1}}^2 \\sim \\chi^2(m-n) = \\chi^2(2)$\n",
    "\n",
    "## 5-i\n",
    "\n",
    "For $\\chi^2(2); k_{0.01} = 9.2103$.\n",
    "\n",
    "## 5-j\n",
    "\n",
    "$\\lVert \\hat{e} \\rVert _{Q_y^{-1}}^2 < k_{0.01}$\n",
    "\n",
    "The alternate hypothesis that the assumed model $y = y_0 + a\\sin{\\left(2\\pi f_0t\\right)}$ not being the right fit to the measured data can be rejected with 99\\% confidence level.\n",
    "\n",
    "## 5-k\n",
    "\n",
    "$Q_{\\hat{e}} = Q_y - Q_{\\hat{y}}$"
   ]
  },
  {
   "cell_type": "code",
   "execution_count": 12,
   "metadata": {},
   "outputs": [],
   "source": [
    "Qy_hat = A @ Qx @ A.T"
   ]
  },
  {
   "cell_type": "markdown",
   "metadata": {},
   "source": [
    "$Q_{\\hat{y}} = \\begin{bmatrix} 7.5\\times 10^{-5} & 2.5\\times 10^{-5} & -2.5\\times 10^{-5} & 2.5 \\times {10^-5} \\\\ 2.5\\times 10^{-5} & 2.5\\times 10^{-5} & 2.5\\times 10^{-5} & 2.5\\times 10^{-5} \\\\ -2.5\\times 10^{-5} & 2.5\\times 10^{-5} & 7.5\\times 10^{-5} & 2.5\\times 10^{-5} \\\\ 2.5\\times 10^{-5} & 2.5\\times 10^{-5} & 2.5\\times 10^{-5} & 2.5\\times 10^{-5} \\\\\\end{bmatrix}$"
   ]
  },
  {
   "cell_type": "code",
   "execution_count": 14,
   "metadata": {},
   "outputs": [],
   "source": [
    "Q_e_hat = Qy - Qy_hat\n",
    "sigma_e_hat = np.sqrt(np.diag(Q_e_hat))"
   ]
  },
  {
   "cell_type": "markdown",
   "metadata": {},
   "source": [
    "$Q_{\\hat{e}} = \\begin{bmatrix} 2.5\\times 10^{-5} & -2.5\\times 10^{-5} & 2.5\\times 10^{-5} & -2.5 \\times {10^-5} \\\\ -2.5\\times 10^{-5} & 7.5\\times 10^{-5} & -2.5\\times 10^{-5} & -2.5\\times 10^{-5} \\\\ 2.5\\times 10^{-5} & -2.5\\times 10^{-5} & 2.5\\times 10^{-5} & -2.5\\times 10^{-5} \\\\ -2.5\\times 10^{-5} & -2.5\\times 10^{-5} & -2.5\\times 10^{-5} & 7.5\\times 10^{-5} \\\\\\end{bmatrix}$\n",
    "\n",
    "$\\sigma_{\\hat{e}_1} = 0.005; \\sigma_{\\hat{e}_2} = 0.00866; \\sigma_{\\hat{e}_3} = 0.005; \\sigma_{\\hat{e}_4} = 0.00866$\n",
    "\n",
    "## 5-l\n",
    "\n",
    "$w_i = \\frac{\\hat{e}_i}{\\sigma_{\\hat{e}_i}}$"
   ]
  },
  {
   "cell_type": "code",
   "execution_count": 15,
   "metadata": {},
   "outputs": [],
   "source": [
    "norm_e_hat = e_hat.reshape(-1)/sigma_e_hat.reshape(-1)"
   ]
  },
  {
   "cell_type": "markdown",
   "metadata": {},
   "source": [
    "$w_1 = -2; w_2 = 2.309; w_3 = -2; w_4 = 0$\n",
    "\n",
    "Since the standard deviation of the measurements are known, $\\underline{w}_i \\sim N(0,1)$.\n",
    "\n",
    "## 5-m\n",
    "\n",
    "For 1\\% significance level and $N(0,1), k_{0.005} = 2.575$.\n",
    "\n",
    "## 5-n\n",
    "\n",
    "The critical region for outlier detection are $k_{\\alpha} < -2.575$ and $k_{\\alpha} > 2.575$. Normalized residuals for all the four observations fall outside the critical region. Therefore none of the observations are outliers at 99% confidence level."
   ]
  }
 ],
 "metadata": {
  "authors": [
   {
    "email": "K.Sripathy@tudelft.nl",
    "name": "Kiran Sripathy"
   },
   {
    "email": "S.Chellini@tudelft.nl",
    "name": "Simone Chellini"
   }
  ],
  "date": "July 5, 2024",
  "kernelspec": {
   "display_name": "devEnv",
   "language": "python",
   "name": "python3"
  },
  "language_info": {
   "codemirror_mode": {
    "name": "ipython",
    "version": 3
   },
   "file_extension": ".py",
   "mimetype": "text/x-python",
   "name": "python",
   "nbconvert_exporter": "python",
   "pygments_lexer": "ipython3",
   "version": "3.10.12"
  },
  "title": "Assignment 5: Model test and outlier removal"
 },
 "nbformat": 4,
 "nbformat_minor": 2
}
