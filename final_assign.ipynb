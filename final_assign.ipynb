{
 "cells": [
  {
   "cell_type": "code",
   "execution_count": 1,
   "metadata": {},
   "outputs": [],
   "source": [
    "import numpy as np\n",
    "from numpy.linalg import inv\n",
    "import matplotlib.pyplot as plt\n",
    "from IPython.display import display, Markdown, Latex\n",
    "import pandas as pd\n",
    "from scipy import stats"
   ]
  },
  {
   "cell_type": "markdown",
   "metadata": {},
   "source": [
    "Analytical model for the ultrasound backscatter:\n",
    "\n",
    "$\\mu = c_1 + c_2(100 - g - s)d50 + c_3g + c_4s$\n",
    "\n",
    "Parameters are $x = \\begin{bmatrix} c_1 & c_2 & c_3 & c_4 \\end{bmatrix}^T$. With 25 measurements of the Lambert parameter,  $y = \\begin{bmatrix} \\mu_{01} & \\mu_{02} & \\cdots & \\mu_{25} \\end{bmatrix}^T$. Model matrix is:\n",
    "\n",
    "$A = \\begin{bmatrix} 1 & (100 - g_{01} - s_{01})d50_{01} & g_{01} & s_{01} \\\\\n",
    "                     1 & (100 - g_{02} - s_{02})d50_{02} & g_{02} & s_{02} \\\\\n",
    "                     \\vdots & \\vdots & \\vdots & \\vdots \\\\\n",
    "                     1 & (100 - g_{25} - s_{25})d50_{25} & g_{25} & s_{25} \\\\ \\end{bmatrix}$"
   ]
  },
  {
   "cell_type": "code",
   "execution_count": 2,
   "metadata": {},
   "outputs": [
    {
     "data": {
      "text/markdown": [
       "Background scatter data\\begin{tabular}{lrrrr}\n",
       "\\toprule\n",
       " & d50 & g & s & mu \\\\\n",
       "\\midrule\n",
       "0 & 33 & 0 & 0.5 & -22 \\\\\n",
       "1 & 221 & 0 & 0.5 & -16 \\\\\n",
       "2 & 100 & 0 & 0.5 & -16 \\\\\n",
       "3 & 28 & 0 & 0.5 & -22 \\\\\n",
       "4 & 501 & 56.6 & 0.8 & -8 \\\\\n",
       "5 & 404 & 0 & 0.2 & -19 \\\\\n",
       "6 & 281 & 0 & 0.2 & -18 \\\\\n",
       "7 & 233 & 0 & 0.1 & -19 \\\\\n",
       "8 & 33 & 0 & 0.01 & -23 \\\\\n",
       "9 & 30 & 0 & 0.01 & -22 \\\\\n",
       "10 & 238 & 0 & 0.01 & -21 \\\\\n",
       "11 & 337 & 0.04 & 0.02 & -22 \\\\\n",
       "12 & 405 & 14.3 & 0.5 & -12 \\\\\n",
       "13 & 399 & 7.75 & 0.18 & -12 \\\\\n",
       "14 & 41 & 0 & 0.01 & -23 \\\\\n",
       "15 & 318 & 0 & 0.01 & -21 \\\\\n",
       "16 & 432 & 0.4 & 0.3 & -20 \\\\\n",
       "17 & 506 & 70.2 & 0.7 & -8 \\\\\n",
       "18 & 437 & 49.95 & 0.71 & -7 \\\\\n",
       "19 & 519 & 32 & 2 & -10 \\\\\n",
       "20 & 398 & 30 & 5.1 & -5 \\\\\n",
       "21 & 357 & 48 & 0.4 & -9 \\\\\n",
       "22 & 389 & 49.5 & 2.1 & -8 \\\\\n",
       "23 & 367 & 0.07 & 0.17 & -20 \\\\\n",
       "24 & 399 & 39.5 & 1.5 & -11 \\\\\n",
       "\\bottomrule\n",
       "\\end{tabular}\n"
      ],
      "text/plain": [
       "<IPython.core.display.Markdown object>"
      ]
     },
     "metadata": {},
     "output_type": "display_data"
    }
   ],
   "source": [
    "#Import the raw data\n",
    "\n",
    "data = np.loadtxt(\"final_assgn_data.txt\")\n",
    "data_pd = pd.DataFrame(data)\n",
    "data_pd.columns = ['d50', 'g', 's', 'mu']\n",
    "display(Markdown(\"Background scatter data\" + f\"{data_pd.to_latex(float_format='%.4g')}\"))"
   ]
  },
  {
   "cell_type": "code",
   "execution_count": 3,
   "metadata": {},
   "outputs": [],
   "source": [
    "y = data[:,3]\n",
    "\n",
    "A1 = np.ones(len(y))\n",
    "A2 = (100 - data[:,1] - data[:,2])*data[:,0]\n",
    "A3 = data[:,1]\n",
    "A4 = data[:,2]\n",
    "A = np.column_stack((A1, A2, A3, A4))"
   ]
  },
  {
   "cell_type": "markdown",
   "metadata": {},
   "source": [
    "# Question-a\n",
    "\n",
    "$\\hat{x} = (A^TA)^{-1}A^Ty$"
   ]
  },
  {
   "cell_type": "code",
   "execution_count": 4,
   "metadata": {},
   "outputs": [
    {
     "data": {
      "text/markdown": [
       "$\\hat{x}=$\\begin{tabular}{r}\n",
       "\\toprule\n",
       "\\midrule\n",
       "-22.14 \\\\\n",
       "9.537E-05 \\\\\n",
       "0.1925 \\\\\n",
       "1.729 \\\\\n",
       "\\bottomrule\n",
       "\\end{tabular}\n"
      ],
      "text/plain": [
       "<IPython.core.display.Markdown object>"
      ]
     },
     "metadata": {},
     "output_type": "display_data"
    }
   ],
   "source": [
    "x_hat = inv(A.T @ A) @ A.T @ y\n",
    "\n",
    "display(Markdown(\"$\\hat{x}=$\" + f\"{pd.DataFrame(x_hat).to_latex(index=False,header=False,float_format='%.4G')}\"))"
   ]
  },
  {
   "cell_type": "markdown",
   "metadata": {},
   "source": [
    "$c_1 = -22.14, c_2 = 9.537\\times10^{-5}, c_3 = 0.1925, c_4 = 1.729$\n",
    "\n",
    "# Question-b"
   ]
  },
  {
   "cell_type": "markdown",
   "metadata": {},
   "source": [
    "$\\hat{y} = A\\hat{x}$\n",
    "\n",
    "$\\hat{e} = y - \\hat{y}$"
   ]
  },
  {
   "cell_type": "code",
   "execution_count": 5,
   "metadata": {},
   "outputs": [
    {
     "data": {
      "text/markdown": [
       "$\\hat{e}=$\\begin{tabular}{r}\n",
       "\\toprule\n",
       "\\midrule\n",
       "-1.042 \\\\\n",
       "3.174 \\\\\n",
       "4.322 \\\\\n",
       "-0.9947 \\\\\n",
       "-0.178 \\\\\n",
       "-1.056 \\\\\n",
       "1.115 \\\\\n",
       "0.7424 \\\\\n",
       "-1.197 \\\\\n",
       "-0.1681 \\\\\n",
       "-1.152 \\\\\n",
       "-3.119 \\\\\n",
       "3.227 \\\\\n",
       "4.829 \\\\\n",
       "-1.273 \\\\\n",
       "-1.915 \\\\\n",
       "-2.552 \\\\\n",
       "-1.992 \\\\\n",
       "2.237 \\\\\n",
       "-0.7485 \\\\\n",
       "0.08121 \\\\\n",
       "1.448 \\\\\n",
       "-0.8186 \\\\\n",
       "-1.664 \\\\\n",
       "-1.306 \\\\\n",
       "\\bottomrule\n",
       "\\end{tabular}\n"
      ],
      "text/plain": [
       "<IPython.core.display.Markdown object>"
      ]
     },
     "metadata": {},
     "output_type": "display_data"
    }
   ],
   "source": [
    "y_hat = A @ x_hat\n",
    "e_hat = y - y_hat\n",
    "\n",
    "display(Markdown(\"$\\hat{e}=$\" + f\"{pd.DataFrame(e_hat).to_latex(index=False,header=False,float_format='%.4G')}\"))"
   ]
  },
  {
   "cell_type": "markdown",
   "metadata": {},
   "source": [
    "$\\sigma_y^2 = \\frac{\\hat{e}^T\\hat{e}}{m - n}$\n",
    "\n",
    "$Q_y = \\sigma_y^2I_m$"
   ]
  },
  {
   "cell_type": "code",
   "execution_count": 6,
   "metadata": {},
   "outputs": [
    {
     "data": {
      "text/markdown": [
       "Degrees of freedom $m - n = 21$"
      ],
      "text/plain": [
       "<IPython.core.display.Markdown object>"
      ]
     },
     "metadata": {},
     "output_type": "display_data"
    }
   ],
   "source": [
    "m = len(y)\n",
    "n = 4\n",
    "dof = m - n\n",
    "\n",
    "display(Markdown(f\"Degrees of freedom $m - n = {dof}$\"))"
   ]
  },
  {
   "cell_type": "code",
   "execution_count": 7,
   "metadata": {},
   "outputs": [
    {
     "data": {
      "text/markdown": [
       "$\\sigma^2=5.171$"
      ],
      "text/plain": [
       "<IPython.core.display.Markdown object>"
      ]
     },
     "metadata": {},
     "output_type": "display_data"
    }
   ],
   "source": [
    "var = e_hat.T @ e_hat / dof\n",
    "\n",
    "display(Markdown(f\"$\\sigma^2={var:.4G}$\"))"
   ]
  },
  {
   "cell_type": "code",
   "execution_count": 8,
   "metadata": {},
   "outputs": [],
   "source": [
    "Qy = var * np.eye(m)"
   ]
  },
  {
   "cell_type": "markdown",
   "metadata": {},
   "source": [
    "$Q_y = 5.171I_{25}$\n",
    "\n",
    "# Question-c\n",
    "\n",
    "For unweighted least-squares solution:\n",
    "\n",
    "$Q_{\\hat{x}} = (A^TA)^{-1}A^TQ_yA(A^TA)^{-1}$\n",
    "\n",
    "Substituting $Q_y = \\sigma^2I$ above:\n",
    "\n",
    "$Q_{\\hat{x}} = (A^TA)^{-1}A^TQ_yA(A^TA)^{-1}$\n",
    "\n",
    "$Q_{\\hat{x}} = \\sigma^2(A^TA)^{-1}$"
   ]
  },
  {
   "cell_type": "code",
   "execution_count": 9,
   "metadata": {},
   "outputs": [
    {
     "data": {
      "text/markdown": [
       "$Q_{\\hat{x}}=$\\begin{tabular}{rrrr}\n",
       "\\toprule\n",
       "\\midrule\n",
       "1.015 & -3.064E-05 & -0.005956 & -0.04235 \\\\\n",
       "-3.064E-05 & 1.385E-09 & 5.25E-08 & -1.663E-06 \\\\\n",
       "-0.005956 & 5.25E-08 & 0.0005052 & -0.004795 \\\\\n",
       "-0.04235 & -1.663E-06 & -0.004795 & 0.2289 \\\\\n",
       "\\bottomrule\n",
       "\\end{tabular}\n"
      ],
      "text/plain": [
       "<IPython.core.display.Markdown object>"
      ]
     },
     "metadata": {},
     "output_type": "display_data"
    }
   ],
   "source": [
    "Q_x_hat = inv(A.T @ A)*var\n",
    "\n",
    "display(Markdown(\"$Q_{\\hat{x}}=$\" + f\"{pd.DataFrame(Q_x_hat).to_latex(index=False,header=False,float_format='%.4G')}\"))"
   ]
  },
  {
   "cell_type": "code",
   "execution_count": 10,
   "metadata": {},
   "outputs": [
    {
     "data": {
      "text/markdown": [
       "$\\sigma_{\\hat{x}}=$\\begin{tabular}{r}\n",
       "\\toprule\n",
       "\\midrule\n",
       "1.008 \\\\\n",
       "3.721E-05 \\\\\n",
       "0.02248 \\\\\n",
       "0.4784 \\\\\n",
       "\\bottomrule\n",
       "\\end{tabular}\n"
      ],
      "text/plain": [
       "<IPython.core.display.Markdown object>"
      ]
     },
     "metadata": {},
     "output_type": "display_data"
    }
   ],
   "source": [
    "sigma_x_hat = np.sqrt(np.diag(Q_x_hat))\n",
    "\n",
    "display(Markdown(\"$\\sigma_{\\hat{x}}=$\" + f\"{pd.DataFrame(sigma_x_hat).to_latex(index=False,header=False,float_format='%.4G')}\"))"
   ]
  },
  {
   "cell_type": "markdown",
   "metadata": {},
   "source": [
    "# Question-d"
   ]
  },
  {
   "cell_type": "code",
   "execution_count": 11,
   "metadata": {},
   "outputs": [
    {
     "data": {
      "text/plain": [
       "<matplotlib.legend.Legend at 0x7efe8d19f100>"
      ]
     },
     "execution_count": 11,
     "metadata": {},
     "output_type": "execute_result"
    },
    {
     "data": {
      "image/png": "[encoded data removed]",
      "text/plain": [
       "<Figure size 640x480 with 1 Axes>"
      ]
     },
     "metadata": {},
     "output_type": "display_data"
    }
   ],
   "source": [
    "fig_d, ax_d = plt.subplots()\n",
    "ax_d.plot(y, y_hat, 'o', label=\"LS fit\")\n",
    "ax_d.plot(np.sort(y), np.sort(y), 'k', label=r\"$\\hat{\\mu}=\\mu$\")\n",
    "ax_d.set_xlabel(r'$\\mu$ [dB]')\n",
    "ax_d.set_ylabel(r'$\\hat{\\mu}$ [dB]')\n",
    "ax_d.legend()\n"
   ]
  },
  {
   "cell_type": "markdown",
   "metadata": {},
   "source": [
    "# Question-e\n",
    "\n",
    "For unweighted least-squares solution:\n",
    "\n",
    "$Q_{\\hat{e}} = P^\\perp Q_y (P^\\perp)^T$\n",
    "\n",
    "$P = A(A^TA)^{-1}A^T$\n",
    "\n",
    "$P^\\perp = I_m - P$"
   ]
  },
  {
   "cell_type": "code",
   "execution_count": 12,
   "metadata": {},
   "outputs": [
    {
     "data": {
      "text/markdown": [
       "$w =$\\begin{tabular}{r}\n",
       "\\toprule\n",
       "\\midrule\n",
       "-0.5007 \\\\\n",
       "1.44 \\\\\n",
       "2.009 \\\\\n",
       "-0.4794 \\\\\n",
       "-0.0871 \\\\\n",
       "-0.5028 \\\\\n",
       "0.5082 \\\\\n",
       "0.3373 \\\\\n",
       "-0.5742 \\\\\n",
       "-0.0808 \\\\\n",
       "-0.524 \\\\\n",
       "-1.446 \\\\\n",
       "1.481 \\\\\n",
       "2.248 \\\\\n",
       "-0.6079 \\\\\n",
       "-0.8826 \\\\\n",
       "-1.232 \\\\\n",
       "-1.073 \\\\\n",
       "1.067 \\\\\n",
       "-0.3538 \\\\\n",
       "0.08037 \\\\\n",
       "0.6952 \\\\\n",
       "-0.3916 \\\\\n",
       "-0.7781 \\\\\n",
       "-0.6016 \\\\\n",
       "\\bottomrule\n",
       "\\end{tabular}\n"
      ],
      "text/plain": [
       "<IPython.core.display.Markdown object>"
      ]
     },
     "metadata": {},
     "output_type": "display_data"
    }
   ],
   "source": [
    "P = A @ inv(A.T @ A) @ A.T\n",
    "P_orth = np.eye(m) - P\n",
    "\n",
    "Q_e_hat = P_orth @ Qy @ P_orth.T\n",
    "\n",
    "sigma_e_hat = np.sqrt(np.diag(Q_e_hat))\n",
    "norm_e_hat = e_hat / sigma_e_hat\n",
    "\n",
    "display(Markdown(\"$w =$\" + f\"{pd.DataFrame(norm_e_hat).to_latex(index=False,header=False,float_format='%.4G')}\"))"
   ]
  },
  {
   "cell_type": "markdown",
   "metadata": {},
   "source": [
    "# Question-f\n",
    "\n",
    "Significance level $\\alpha = 0.1$"
   ]
  },
  {
   "cell_type": "code",
   "execution_count": 13,
   "metadata": {},
   "outputs": [
    {
     "data": {
      "text/markdown": [
       "$k_{0.95} = 1.721$"
      ],
      "text/plain": [
       "<IPython.core.display.Markdown object>"
      ]
     },
     "metadata": {},
     "output_type": "display_data"
    }
   ],
   "source": [
    "from scipy.stats import t\n",
    "\n",
    "alpha = 0.1\n",
    "\n",
    "#For 2-tailed test \n",
    "q = 1 - alpha/2\n",
    "\n",
    "#Quantile function aka inverse cdf for t-distribution\n",
    "k_alpha = t.ppf(q, dof)\n",
    "\n",
    "display(Markdown(f\"$k_{{0.95}} = {k_alpha:.4G}$\"))"
   ]
  },
  {
   "cell_type": "code",
   "execution_count": 14,
   "metadata": {},
   "outputs": [
    {
     "data": {
      "text/markdown": [
       "Outliers\\begin{tabular}{lrrrr}\n",
       "\\toprule\n",
       " & d50 & g & s & mu \\\\\n",
       "\\midrule\n",
       "2 & 100 & 0 & 0.5 & -16 \\\\\n",
       "13 & 399 & 7.75 & 0.18 & -12 \\\\\n",
       "\\bottomrule\n",
       "\\end{tabular}\n"
      ],
      "text/plain": [
       "<IPython.core.display.Markdown object>"
      ]
     },
     "metadata": {},
     "output_type": "display_data"
    }
   ],
   "source": [
    "data_pd_outliers = data_pd.iloc[np.argwhere(np.abs(norm_e_hat) > k_alpha).flatten()]\n",
    "\n",
    "display(Markdown(\"Outliers\" + f\"{data_pd_outliers.to_latex(float_format='%.4g')}\"))"
   ]
  },
  {
   "cell_type": "code",
   "execution_count": 15,
   "metadata": {},
   "outputs": [
    {
     "data": {
      "image/png": "[encoded data removed]",
      "text/plain": [
       "<Figure size 640x480 with 1 Axes>"
      ]
     },
     "metadata": {},
     "output_type": "display_data"
    }
   ],
   "source": [
    "y_hat_outliers = y_hat[np.argwhere(np.abs(norm_e_hat) > k_alpha)]\n",
    "y_outliers = y[np.argwhere(np.abs(norm_e_hat) > k_alpha)]\n",
    "\n",
    "ax_d.plot(y_outliers, y_hat_outliers, 'rx', label=\"Outliers\")\n",
    "ax_d.legend()\n",
    "display(fig_d)"
   ]
  }
 ],
 "metadata": {
  "authors": [
   {
    "email": "K.Sripathy@tudelft.nl",
    "name": "Kiran Sripathy"
   },
   {
    "email": "S.Chellini@tudelft.nl",
    "name": "Simone Chellini"
   }
  ],
  "date": "July 30, 2024",
  "kernelspec": {
   "display_name": "devEnv",
   "language": "python",
   "name": "python3"
  },
  "language_info": {
   "codemirror_mode": {
    "name": "ipython",
    "version": 3
   },
   "file_extension": ".py",
   "mimetype": "text/x-python",
   "name": "python",
   "nbconvert_exporter": "python",
   "pygments_lexer": "ipython3",
   "version": "3.10.12"
  },
  "title": "Final assignment-1: Modelling ultrasonic backscatter strength"
 },
 "nbformat": 4,
 "nbformat_minor": 2
}
