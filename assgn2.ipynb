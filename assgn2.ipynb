{
 "cells": [
  {
   "cell_type": "code",
   "execution_count": 2,
   "metadata": {},
   "outputs": [],
   "source": [
    "import numpy as np\n",
    "from numpy.linalg import inv"
   ]
  },
  {
   "cell_type": "markdown",
   "metadata": {},
   "source": [
    "# Question 1\n",
    "\n",
    "## Rectangular model matrix\n",
    "\n",
    "$y = \\begin{bmatrix}\n",
    "        5 \\\\\n",
    "        0 \\\\\n",
    "        6 \\\\\n",
    "    \\end{bmatrix}$\n",
    "\n",
    "$x = \\begin{bmatrix}\n",
    "        x_1 \\\\\n",
    "        x_2 \\\\\n",
    "    \\end{bmatrix}$\n",
    "\n",
    "$A_{32} = \\begin{bmatrix}\n",
    "        1 & 2 \\\\\n",
    "        2 & -1 \\\\\n",
    "        5 & 1 \\\\\n",
    "    \\end{bmatrix}$"
   ]
  },
  {
   "cell_type": "code",
   "execution_count": 2,
   "metadata": {},
   "outputs": [],
   "source": [
    "y = np.array([[5],[0],[6]])\n",
    "A32 = np.array([[1,2],[2,-1],[5,1]])\n"
   ]
  },
  {
   "cell_type": "markdown",
   "metadata": {},
   "source": [
    "$A_{32}^T = \\begin{bmatrix}\n",
    "                1 & 2 & 5 \\\\\n",
    "                2 & -1 & 1 \\\\\n",
    "            \\end{bmatrix}$\n",
    "\n",
    "            "
   ]
  },
  {
   "cell_type": "code",
   "execution_count": 3,
   "metadata": {},
   "outputs": [],
   "source": [
    "A32T = np.transpose(A32)\n",
    "A32T_A32 = np.matmul(A32T,A32)\n",
    "inv_A32T_A32 = inv(A32T_A32)"
   ]
  },
  {
   "cell_type": "markdown",
   "metadata": {},
   "source": [
    "$(A_{32}^TA_{32})^{-1} = \\begin{bmatrix}\n",
    "                            0.039 & -0.032 \\\\\n",
    "                            -0.032 & 0.194 \\\\\n",
    "                        \\end{bmatrix}$"
   ]
  },
  {
   "cell_type": "code",
   "execution_count": 4,
   "metadata": {},
   "outputs": [],
   "source": [
    "A32T_y = np.matmul(A32T,y)"
   ]
  },
  {
   "cell_type": "markdown",
   "metadata": {},
   "source": [
    "$A_{32}^Ty = \\begin{bmatrix}\n",
    "                35 \\\\\n",
    "                16 \\\\\n",
    "            \\end{bmatrix}$"
   ]
  },
  {
   "cell_type": "code",
   "execution_count": 5,
   "metadata": {},
   "outputs": [],
   "source": [
    "x_hat = np.matmul(inv_A32T_A32,A32T_y)"
   ]
  },
  {
   "cell_type": "markdown",
   "metadata": {},
   "source": [
    "$\\hat{x} = \\begin{bmatrix}\n",
    "                0.84 \\\\\n",
    "                1.97 \\\\\n",
    "            \\end{bmatrix}$"
   ]
  },
  {
   "cell_type": "markdown",
   "metadata": {},
   "source": [
    "## Square model matrix\n",
    "\n",
    "$y = \\begin{bmatrix}\n",
    "        8 \\\\\n",
    "        3 \\\\\n",
    "        -1 \\\\\n",
    "    \\end{bmatrix}$\n",
    "\n",
    "$x = \\begin{bmatrix}\n",
    "        x_1 \\\\\n",
    "        x_2 \\\\\n",
    "        x_3 \\\\\n",
    "    \\end{bmatrix}$\n",
    "\n",
    "$A_{33} = \\begin{bmatrix}\n",
    "            2 & 4 & -3 \\\\\n",
    "            1 & 1 & -1 \\\\\n",
    "            2 & -2 & 3 \\\\\n",
    "        \\end{bmatrix}$"
   ]
  },
  {
   "cell_type": "code",
   "execution_count": 3,
   "metadata": {},
   "outputs": [],
   "source": [
    "y = np.array([[8],[3],[-1]])\n",
    "A33 = np.array([[2,4,-3],[1,1,-1],[2,-2,3]])\n",
    "A33T = np.transpose(A33)\n",
    "inv_A33T_A33 = inv(np.matmul(A33T,A33))"
   ]
  },
  {
   "cell_type": "markdown",
   "metadata": {},
   "source": [
    "$(A_{33}^TA_{33})^{-1} = \\begin{bmatrix}\n",
    "                            1.06 & -2.11 & -2.06 \\\\\n",
    "                            -2.11 & 4.72 & 4.61 \\\\\n",
    "                            -2.06 & 4.61 & 4.56 \\\\\n",
    "                        \\end{bmatrix}$"
   ]
  },
  {
   "cell_type": "code",
   "execution_count": 4,
   "metadata": {},
   "outputs": [],
   "source": [
    "A33T_y = np.matmul(A33T,y)"
   ]
  },
  {
   "cell_type": "markdown",
   "metadata": {},
   "source": [
    "$A_{33}^Ty = \\begin{bmatrix}\n",
    "                17 \\\\\n",
    "                37 \\\\\n",
    "                -30 \\\\\n",
    "            \\end{bmatrix}$"
   ]
  },
  {
   "cell_type": "code",
   "execution_count": 6,
   "metadata": {},
   "outputs": [],
   "source": [
    "x_hat = np.matmul(inv_A33T_A33,A33T_y)\n",
    "A33T_y2 = np.array([[21],[33],[-24]])\n",
    "x_hat2 = np.matmul(inv_A33T_A33,A33T_y2)"
   ]
  },
  {
   "cell_type": "markdown",
   "metadata": {},
   "source": [
    "$\\hat{x} = \\begin{bmatrix}\n",
    "                1.5 \\\\\n",
    "                0.5 \\\\\n",
    "                -1 \\\\\n",
    "            \\end{bmatrix}$\n",
    "\n",
    "# Question 2\n",
    "\n",
    "$y = \\begin{bmatrix}\n",
    "        4 \\\\\n",
    "        5 \\\\\n",
    "        6 \\\\\n",
    "    \\end{bmatrix}$\n",
    "\n",
    "$x = \\begin{bmatrix}\n",
    "        x_1 \\\\\n",
    "        x_2 \\\\\n",
    "    \\end{bmatrix}$\n",
    "\n",
    "$A_{32} = \\begin{bmatrix}\n",
    "        1 & 2 \\\\\n",
    "        1 & 3 \\\\\n",
    "        0 & 0 \\\\\n",
    "    \\end{bmatrix}$"
   ]
  },
  {
   "cell_type": "code",
   "execution_count": 9,
   "metadata": {},
   "outputs": [],
   "source": [
    "y = np.array([[4],[5],[6]])\n",
    "A32 = np.array([[1,2],[1,3],[0,0]])\n",
    "A32T = np.transpose(A32)\n",
    "A32T_A32 = np.matmul(A32T,A32)\n",
    "inv_A32T_A32 = inv(A32T_A32)"
   ]
  },
  {
   "cell_type": "markdown",
   "metadata": {},
   "source": [
    "$(A_{32}^TA_{32})^{-1} = \\begin{bmatrix}\n",
    "                            13 & -5 \\\\\n",
    "                            -5 & 2 \\\\\n",
    "                        \\end{bmatrix}$"
   ]
  },
  {
   "cell_type": "code",
   "execution_count": 10,
   "metadata": {},
   "outputs": [],
   "source": [
    "A32T_y = np.matmul(A32T,y)"
   ]
  },
  {
   "cell_type": "markdown",
   "metadata": {},
   "source": [
    "$A_{32}^Ty = \\begin{bmatrix}\n",
    "                9 \\\\\n",
    "                23 \\\\\n",
    "            \\end{bmatrix}$"
   ]
  },
  {
   "cell_type": "code",
   "execution_count": 11,
   "metadata": {},
   "outputs": [],
   "source": [
    "x_hat = np.matmul(inv_A32T_A32,A32T_y)"
   ]
  },
  {
   "cell_type": "markdown",
   "metadata": {},
   "source": [
    "$\\hat{x} = \\begin{bmatrix}\n",
    "                2 \\\\\n",
    "                1 \\\\\n",
    "            \\end{bmatrix}$"
   ]
  },
  {
   "cell_type": "code",
   "execution_count": 12,
   "metadata": {},
   "outputs": [],
   "source": [
    "y_hat = np.matmul(A32,x_hat)"
   ]
  },
  {
   "cell_type": "markdown",
   "metadata": {},
   "source": [
    "$\\hat{y} = \\begin{bmatrix}\n",
    "                4 \\\\\n",
    "                5 \\\\\n",
    "                0 \\\\\n",
    "            \\end{bmatrix}$\n",
    "\n",
    "# Question 3\n",
    "\n",
    "$y = \\begin{bmatrix}\n",
    "        4 \\\\\n",
    "        5 \\\\\n",
    "        9 \\\\\n",
    "    \\end{bmatrix}$\n",
    "\n",
    "$x = \\begin{bmatrix}\n",
    "        x_1 \\\\\n",
    "        x_2 \\\\\n",
    "    \\end{bmatrix}$\n",
    "\n",
    "$A_{32} = \\begin{bmatrix}\n",
    "        1 & -1 \\\\\n",
    "        1 & 0 \\\\\n",
    "        1 & 1 \\\\\n",
    "    \\end{bmatrix}$"
   ]
  },
  {
   "cell_type": "code",
   "execution_count": 13,
   "metadata": {},
   "outputs": [],
   "source": [
    "y = np.array([[4],[5],[9]])\n",
    "A32 = np.array([[1,-1],[1,0],[1,1]])\n",
    "A32T = np.transpose(A32)\n",
    "A32T_A32 = np.matmul(A32T,A32)\n",
    "inv_A32T_A32 = inv(A32T_A32)"
   ]
  },
  {
   "cell_type": "markdown",
   "metadata": {},
   "source": [
    "$(A_{32}^TA_{32})^{-1} = \\begin{bmatrix}\n",
    "                            0.33 & 0 \\\\\n",
    "                            0 & 0.5 \\\\\n",
    "                        \\end{bmatrix}$"
   ]
  },
  {
   "cell_type": "code",
   "execution_count": 14,
   "metadata": {},
   "outputs": [],
   "source": [
    "A32T_y = np.matmul(A32T,y)"
   ]
  },
  {
   "cell_type": "markdown",
   "metadata": {},
   "source": [
    "$A_{32}^Ty = \\begin{bmatrix}\n",
    "                18 \\\\\n",
    "                5 \\\\\n",
    "            \\end{bmatrix}$"
   ]
  },
  {
   "cell_type": "code",
   "execution_count": 15,
   "metadata": {},
   "outputs": [],
   "source": [
    "x_hat = np.matmul(inv_A32T_A32,A32T_y)"
   ]
  },
  {
   "cell_type": "markdown",
   "metadata": {},
   "source": [
    "$\\hat{x} = \\begin{bmatrix}\n",
    "                6 \\\\\n",
    "                2.5 \\\\\n",
    "            \\end{bmatrix}$"
   ]
  },
  {
   "cell_type": "code",
   "execution_count": 16,
   "metadata": {},
   "outputs": [],
   "source": [
    "y_hat = np.matmul(A32,x_hat)"
   ]
  },
  {
   "cell_type": "markdown",
   "metadata": {},
   "source": [
    "$\\hat{y} = \\begin{bmatrix}\n",
    "                3.5 \\\\\n",
    "                6 \\\\\n",
    "                8.5 \\\\\n",
    "            \\end{bmatrix}$"
   ]
  },
  {
   "cell_type": "code",
   "execution_count": 17,
   "metadata": {},
   "outputs": [],
   "source": [
    "e_hat = y - y_hat"
   ]
  },
  {
   "cell_type": "markdown",
   "metadata": {},
   "source": [
    "$\\hat{e} = \\begin{bmatrix}\n",
    "                0.5 \\\\\n",
    "                -1 \\\\\n",
    "                0.5 \\\\\n",
    "            \\end{bmatrix}$\n",
    "\n",
    "# Question 4\n",
    "\n",
    "$y = \\begin{bmatrix}\n",
    "        2 \\\\\n",
    "        0 \\\\\n",
    "        -3 \\\\\n",
    "        -6 \\\\\n",
    "    \\end{bmatrix}$\n",
    "\n",
    "$x = \\begin{bmatrix}\n",
    "        x_0 \\\\\n",
    "        v \\\\\n",
    "        a \\\\\n",
    "    \\end{bmatrix}$\n",
    "\n",
    "$A_{43} = \\begin{bmatrix}\n",
    "        1 & -1 & 0.5 \\\\\n",
    "        1 & 0 & 0 \\\\\n",
    "        1 & 1 & 0.5 \\\\\n",
    "        1 & 2 & 2 \\\\\n",
    "    \\end{bmatrix}$"
   ]
  },
  {
   "cell_type": "code",
   "execution_count": 18,
   "metadata": {},
   "outputs": [],
   "source": [
    "y = np.array([[2],[0],[-3],[-6]])\n",
    "A43 = np.array([[1,-1,0.5],[1,0,0],[1,1,0.5],[1,2,2]])\n",
    "A43T = np.transpose(A43)\n",
    "inv_A43T_A43 = inv(np.matmul(A43T,A43))"
   ]
  },
  {
   "cell_type": "markdown",
   "metadata": {},
   "source": [
    "$(A_{43}^TA_{43})^{-1} = \\begin{bmatrix}\n",
    "                            0.55 & 0.15 & -0.5 \\\\\n",
    "                            0.15 & 0.45 & -0.5 \\\\\n",
    "                            -0.5 & -0.5 & 1 \\\\\n",
    "                        \\end{bmatrix}$"
   ]
  },
  {
   "cell_type": "code",
   "execution_count": 19,
   "metadata": {},
   "outputs": [],
   "source": [
    "A43T_y = np.matmul(A43T,y)"
   ]
  },
  {
   "cell_type": "markdown",
   "metadata": {},
   "source": [
    "$A_{43}^Ty = \\begin{bmatrix}\n",
    "                -7 \\\\\n",
    "                -17 \\\\\n",
    "                -12.5 \\\\\n",
    "            \\end{bmatrix}$"
   ]
  },
  {
   "cell_type": "code",
   "execution_count": 20,
   "metadata": {},
   "outputs": [],
   "source": [
    "x_hat = np.matmul(inv_A43T_A43,A43T_y)"
   ]
  },
  {
   "cell_type": "markdown",
   "metadata": {},
   "source": [
    "$\\hat{x} = \\begin{bmatrix}\n",
    "                -0.15 \\\\\n",
    "                -2.45 \\\\\n",
    "                -0.5 \\\\\n",
    "            \\end{bmatrix}$\n",
    "\n",
    "$v = -2.45$\n",
    "\n",
    "$a = -0.5$\n",
    "\n",
    "# Question 5\n",
    "\n",
    "System of equations\n",
    "\n",
    "$x = y_1$\n",
    "\n",
    "$x = y_2$\n",
    "\n",
    "$\\quad\\, \\vdots$\n",
    "\n",
    "$x = y_m$ \n",
    "\n",
    "\n",
    "## 5-a\n",
    "\n",
    "$\\begin{bmatrix} y_1 \\\\ y_2 \\\\ \\vdots \\\\ y_m \\\\ \\end{bmatrix} = \\begin{bmatrix} a_{11} \\\\ a_{21} \\\\ \\vdots \\\\ a_{m1} \\\\ \\end{bmatrix} x = \\begin{bmatrix} 1 \\\\ 1 \\\\ \\vdots \\\\ 1 \\\\ \\end{bmatrix} x$\n",
    "\n",
    "$A_{m1} = \\begin{bmatrix} 1 \\\\ 1 \\\\ \\vdots \\\\ 1 \\\\ \\end{bmatrix}$\n",
    "\n",
    "$A_{m1}^Ty = \\begin{bmatrix} 1 & 1 & \\cdots & 1 \\end{bmatrix} \\begin{bmatrix} y_1 \\\\ y_2 \\\\ \\vdots \\\\ y_m \\\\ \\end{bmatrix}$\n",
    "\n",
    "$A_{m1}^Ty = y_1 + y_2 + \\cdots + y_m$\n",
    "\n",
    "$A_{m1}^TA_{m1} = \\begin{bmatrix} 1 & 1 & \\cdots & 1 \\end{bmatrix} \\begin{bmatrix} 1 \\\\ 1 \\\\ \\vdots \\\\ 1 \\\\ \\end{bmatrix}$\n",
    "\n",
    "$A_{m1}^TA_{m1} = 1 + 1 + \\cdots + 1 = m$\n",
    "\n",
    "$\\hat{x} = (A_{m1}^TA_{m1})^{-1} A_{m1}^Ty$\n",
    "\n",
    "$$\\hat{x} = \\frac{y_1 + y_2 + \\cdots + y_m}{m}$$"
   ]
  }
 ],
 "metadata": {
  "kernelspec": {
   "display_name": "devEnv",
   "language": "python",
   "name": "python3"
  },
  "language_info": {
   "codemirror_mode": {
    "name": "ipython",
    "version": 3
   },
   "file_extension": ".py",
   "mimetype": "text/x-python",
   "name": "python",
   "nbconvert_exporter": "python",
   "pygments_lexer": "ipython3",
   "version": "3.1.undefined"
  }
 },
 "nbformat": 4,
 "nbformat_minor": 2
}
